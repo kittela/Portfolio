{
 "cells": [
  {
   "cell_type": "markdown",
   "id": "943f047d",
   "metadata": {},
   "source": [
    "# Cleaning and Visualization of US Census Data\n",
    "In this project, we will be working with a series of spreadsheets obtained from the US Census Bureau.  The data will be imported from the spreadsheets, cleansed, and visualized using data analysis tools in Python."
   ]
  },
  {
   "cell_type": "markdown",
   "id": "11c31821",
   "metadata": {},
   "source": [
    "## Importing Libraries and Data\n",
    "First, we will import the libraries to use.  This includes Glob to assist in importing the spreadsheets, Pandas and Numpy for data organization and analysis, and Pyplot for data visualization."
   ]
  },
  {
   "cell_type": "code",
   "execution_count": 39,
   "id": "040374fb",
   "metadata": {},
   "outputs": [],
   "source": [
    "import pandas as pd\n",
    "import numpy as np\n",
    "import matplotlib.pyplot as plt\n",
    "import glob\n",
    "\n",
    "# Making the default plot size larger for easier visualization\n",
    "plt.rcParams['figure.figsize'] = [10, 5]"
   ]
  },
  {
   "cell_type": "code",
   "execution_count": 29,
   "id": "331f843a",
   "metadata": {},
   "outputs": [
    {
     "name": "stdout",
     "output_type": "stream",
     "text": [
      "   Unnamed: 0           State  TotalPop Hispanic   White   Black Native  \\\n",
      "0           0    Rhode Island   1053661   13.36%  74.33%   5.68%  0.35%   \n",
      "1           1  South Carolina   4777576    5.06%  62.89%  28.75%  0.29%   \n",
      "2           2    South Dakota    843190    3.24%  82.50%   1.42%  9.42%   \n",
      "3           3       Tennessee   6499615    4.72%  73.49%  18.28%  0.23%   \n",
      "4           4           Texas  26538614   38.05%  44.69%  11.65%  0.26%   \n",
      "\n",
      "   Asian Pacific       Income            GenderPop  \n",
      "0  3.25%   0.04%  $59,125.27       510388M_543273F  \n",
      "1  1.25%   0.05%  $46,296.81     2322409M_2455167F  \n",
      "2  1.02%   0.04%  $51,805.41       423477M_419713F  \n",
      "3  1.41%   0.04%  $47,328.08     3167756M_3331859F  \n",
      "4  3.67%   0.07%  $55,874.52   13171316M_13367298F  \n",
      "Unnamed: 0     int64\n",
      "State         object\n",
      "TotalPop       int64\n",
      "Hispanic      object\n",
      "White         object\n",
      "Black         object\n",
      "Native        object\n",
      "Asian         object\n",
      "Pacific       object\n",
      "Income        object\n",
      "GenderPop     object\n",
      "dtype: object\n"
     ]
    }
   ],
   "source": [
    "# The data is spread across 10 CSV files.  We have moved the files to their own 'Data' folder and will use\n",
    "# glob to iterate through them and read their contents into dataframes\n",
    "\n",
    "path = 'Data'\n",
    "files = glob.glob(path + '/*.csv')\n",
    "df_list = [pd.read_csv(file) for file in files]\n",
    "\n",
    "# Now combining the individual dataframes into one\n",
    "\n",
    "df = pd.concat(df_list, axis = 0)\n",
    "\n",
    "# And inspecting the first few rows and data types\n",
    "\n",
    "print(df.head())\n",
    "print(df.dtypes)"
   ]
  },
  {
   "cell_type": "markdown",
   "id": "86f494ea",
   "metadata": {},
   "source": [
    "## Cleaning the Data\n",
    "From the initial inspection of our imported data, the first things we may notice is that it is out of order and has a column named 'Unnamed: 0' which appears to be a duplicate of the indices.  We will address this by sorting on the 'State' column, removing the 'Unnamed: 0' column, and resetting the indices."
   ]
  },
  {
   "cell_type": "code",
   "execution_count": 30,
   "id": "bafbd3a5",
   "metadata": {
    "scrolled": true
   },
   "outputs": [
    {
     "name": "stdout",
     "output_type": "stream",
     "text": [
      "        State  TotalPop Hispanic   White   Black  Native   Asian Pacific  \\\n",
      "0     Alabama   4830620    3.75%  61.88%  31.25%   0.45%   1.05%   0.03%   \n",
      "1      Alaska    733375    5.91%  60.91%   2.85%  16.39%   5.45%   1.06%   \n",
      "2     Arizona   6641928   29.57%  57.12%   3.85%   4.36%   2.88%   0.17%   \n",
      "3    Arkansas   2958208    6.22%  71.14%  18.97%   0.52%   1.14%   0.15%   \n",
      "4  California  38421464   37.29%  40.22%   5.68%   0.41%  13.05%   0.35%   \n",
      "\n",
      "        Income            GenderPop  \n",
      "0  $43,296.36     2341093M_2489527F  \n",
      "1  $70,354.74       384160M_349215F  \n",
      "2  $54,207.82     3299088M_3342840F  \n",
      "3  $41,935.63     1451913M_1506295F  \n",
      "4  $67,264.78   19087135M_19334329F  \n"
     ]
    }
   ],
   "source": [
    "df = df.sort_values(by = 'State').drop(['Unnamed: 0'], axis = 1).reset_index(drop = True)\n",
    "print(df.head())"
   ]
  },
  {
   "cell_type": "markdown",
   "id": "23846211",
   "metadata": {},
   "source": [
    "Now we can look at cleaning the values themselves.  We'll want to perform analyses on the data which would currently be prevented by the special characters such as dollar signs and percentages.  Our next step will be to remove these special characters and then convert the columns to numerics."
   ]
  },
  {
   "cell_type": "code",
   "execution_count": 31,
   "id": "1953f57f",
   "metadata": {
    "scrolled": true
   },
   "outputs": [
    {
     "name": "stdout",
     "output_type": "stream",
     "text": [
      "State         object\n",
      "TotalPop       int64\n",
      "Hispanic     float64\n",
      "White        float64\n",
      "Black        float64\n",
      "Native       float64\n",
      "Asian        float64\n",
      "Pacific      float64\n",
      "Income       float64\n",
      "GenderPop     object\n",
      "dtype: object\n"
     ]
    }
   ],
   "source": [
    "# Removing all commas, dollar signs, and percent signs using regex.\n",
    "\n",
    "df.replace('[$%,]', '', regex = True, inplace = True)\n",
    "\n",
    "# Converting relevant columns to numeric.\n",
    "\n",
    "df[['Hispanic', 'White', 'Black', 'Native', 'Asian', 'Pacific', 'Income']] = \\\n",
    "    df[['Hispanic', 'White', 'Black', 'Native', 'Asian', 'Pacific', 'Income']].apply(pd.to_numeric)\n",
    "\n",
    "print(df.dtypes)"
   ]
  },
  {
   "cell_type": "markdown",
   "id": "020dd2ca",
   "metadata": {},
   "source": [
    "One messy column remains which is 'GenderPop'.  We can see from our earlier inspection that this column contains counts of a state's population by gender combined into a single string.  To make this information useful, we'll split it into two additional columns: 'Male' and 'Female'.  These columns will contain the percentage of males and females making up the population of the state."
   ]
  },
  {
   "cell_type": "code",
   "execution_count": 32,
   "id": "5913aa8b",
   "metadata": {},
   "outputs": [],
   "source": [
    "# First we remove the 'M' and 'F' indicators and split the column on the underscore.\n",
    "\n",
    "mf_count = list(df.GenderPop.replace('[MF]', '', regex = True).str.split('_'))\n",
    "\n",
    "# Then we create the new columns using list comprehension\n",
    "\n",
    "df['Male'] = [i[0] for i in mf_count]\n",
    "df['Female'] = [i[1] for i in mf_count]\n",
    "\n",
    "# We can now easily convert the columns to their percentages\n",
    "\n",
    "df.Male = round(pd.to_numeric(df.Male) / df.TotalPop * 100, 2)\n",
    "df.Female = round(pd.to_numeric(df.Female) / df.TotalPop * 100, 2)"
   ]
  },
  {
   "cell_type": "markdown",
   "id": "01964cd0",
   "metadata": {},
   "source": [
    "During this process, we may have noticed that there are several missing (NaN) values in the 'Female' column.  Since we still have the total population and the proportion of males, we can infer the values and fill in the missing fields."
   ]
  },
  {
   "cell_type": "code",
   "execution_count": 33,
   "id": "2f243700",
   "metadata": {},
   "outputs": [],
   "source": [
    "df.Female = df.Female.fillna(100 - df.Male)"
   ]
  },
  {
   "cell_type": "markdown",
   "id": "23ff6303",
   "metadata": {},
   "source": [
    "Now that our data is clean there is another issue we'll want to address:"
   ]
  },
  {
   "cell_type": "code",
   "execution_count": 34,
   "id": "01c8f7dc",
   "metadata": {},
   "outputs": [
    {
     "name": "stdout",
     "output_type": "stream",
     "text": [
      "(60, 12)\n"
     ]
    }
   ],
   "source": [
    "print(df.shape)"
   ]
  },
  {
   "cell_type": "markdown",
   "id": "155b4a39",
   "metadata": {},
   "source": [
    "We have 60 rows in our data - it would appear we have duplicates.  We can remedy that very simply."
   ]
  },
  {
   "cell_type": "code",
   "execution_count": 35,
   "id": "0ee9b9af",
   "metadata": {
    "scrolled": false
   },
   "outputs": [
    {
     "name": "stdout",
     "output_type": "stream",
     "text": [
      "(51, 12)\n"
     ]
    }
   ],
   "source": [
    "df = df.drop_duplicates().reset_index(drop = True)\n",
    "print(df.shape)"
   ]
  },
  {
   "cell_type": "markdown",
   "id": "b64e3ace",
   "metadata": {},
   "source": [
    "Our data is now clean enough for analysis and visualization."
   ]
  },
  {
   "cell_type": "markdown",
   "id": "e19d2cca",
   "metadata": {},
   "source": [
    "## Data Visualization\n",
    "For this project, we'll assume we received a request for a plot showing the average income of a state compared to the proportion of women in that state."
   ]
  },
  {
   "cell_type": "code",
   "execution_count": 36,
   "id": "d877857a",
   "metadata": {},
   "outputs": [
    {
     "data": {
      "image/png": "[encoded data removed]",
      "text/plain": [
       "<Figure size 720x360 with 1 Axes>"
      ]
     },
     "metadata": {
      "needs_background": "light"
     },
     "output_type": "display_data"
    }
   ],
   "source": [
    "# This could be accomplished with a scatterplot.\n",
    "\n",
    "plt.scatter(df.Female, df.Income)\n",
    "plt.show()"
   ]
  },
  {
   "cell_type": "markdown",
   "id": "5ba2cd07",
   "metadata": {},
   "source": [
    "While there's no immediately discernible correlation, we can see that the majority of US states have a higher proportion of females than males."
   ]
  },
  {
   "cell_type": "markdown",
   "id": "8d1af427",
   "metadata": {},
   "source": [
    "For another visualization, we'll assume we've received another request for a histogram of race proportions in all states.  While we've already converted our data to a proper format for this, we do have a few missing (NaN) values in the 'Pacific' column.  In the context of our data, it would be reasonable to assume that these missing values indicate no report of representation and the missing values can be replaced by zeros."
   ]
  },
  {
   "cell_type": "code",
   "execution_count": 37,
   "id": "6e62cbe4",
   "metadata": {},
   "outputs": [],
   "source": [
    "df.Pacific = df.Pacific.fillna(0)"
   ]
  },
  {
   "cell_type": "markdown",
   "id": "ea415a2d",
   "metadata": {},
   "source": [
    "Now we can create our histograms for each reported race."
   ]
  },
  {
   "cell_type": "code",
   "execution_count": 38,
   "id": "77758b38",
   "metadata": {
    "scrolled": true
   },
   "outputs": [
    {
     "data": {
      "image/png": "[encoded data removed]",
      "text/plain": [
       "<Figure size 720x360 with 1 Axes>"
      ]
     },
     "metadata": {
      "needs_background": "light"
     },
     "output_type": "display_data"
    }
   ],
   "source": [
    "# Creating the plots by iterating through each race\n",
    "for race in ['Hispanic', 'White', 'Black', 'Native', 'Asian', 'Pacific']:\n",
    "    plt.hist(df[race], label = race)\n",
    "    plt.title(\"Histogram of the Percentage of People per State by Race\")\n",
    "    plt.xlabel(\"Percentage\")\n",
    "    plt.ylabel(\"Frequency\")\n",
    "\n",
    "plt.legend()\n",
    "plt.show()"
   ]
  },
  {
   "cell_type": "markdown",
   "id": "7606071c",
   "metadata": {},
   "source": [
    "While this is an informative plot to have, it does become difficult when making certain comparisons - particularly in the lower percentage ranges.  It would also be beneficial to have a separate plot for each race which may best be combined into a single graphic as subplots."
   ]
  },
  {
   "cell_type": "code",
   "execution_count": 67,
   "id": "330ea823",
   "metadata": {},
   "outputs": [
    {
     "data": {
      "image/png": "[encoded data removed]",
      "text/plain": [
       "<Figure size 1080x288 with 6 Axes>"
      ]
     },
     "metadata": {
      "needs_background": "light"
     },
     "output_type": "display_data"
    }
   ],
   "source": [
    "fig, ax = plt.subplots(2, 3, figsize=(15,4))\n",
    "fig.suptitle('Histograms of the Percentage of People per State by Race')\n",
    "ax[0][0].hist(df['Hispanic'], color = 'blue')\n",
    "ax[0][0].set_title('Hispanic')\n",
    "ax[0][1].hist(df['White'], color = 'orange')\n",
    "ax[0][1].set_title('White')\n",
    "ax[0][2].hist(df['Black'], color = 'green')\n",
    "ax[0][2].set_title('Black')\n",
    "ax[1][0].hist(df['Native'], color = 'red')\n",
    "ax[1][0].set_title('Native')\n",
    "ax[1][1].hist(df['Asian'], color = 'purple')\n",
    "ax[1][1].set_title('Asian')\n",
    "ax[1][2].hist(df['Pacific'], color = 'brown')\n",
    "ax[1][2].set_title('Pacific')\n",
    "fig.subplots_adjust(hspace = .5, top = 0.8, bottom = -0.5)"
   ]
  }
 ],
 "metadata": {
  "kernelspec": {
   "display_name": "Python 3 (ipykernel)",
   "language": "python",
   "name": "python3"
  },
  "language_info": {
   "codemirror_mode": {
    "name": "ipython",
    "version": 3
   },
   "file_extension": ".py",
   "mimetype": "text/x-python",
   "name": "python",
   "nbconvert_exporter": "python",
   "pygments_lexer": "ipython3",
   "version": "3.9.7"
  }
 },
 "nbformat": 4,
 "nbformat_minor": 5
}
