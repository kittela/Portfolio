{
 "cells": [
  {
   "cell_type": "markdown",
   "id": "df4421b4",
   "metadata": {},
   "source": [
    "# Portfolio Project: Online Payment Fraud Detection\n",
    "In this project, we will utilize a dataset obtained from Kaggle.com to demonstrate various data science techniques which include the following:\n",
    "\n",
    "- Exploratory Data Analysis (EDA)\n",
    "- Data Preparation\n",
    "- Machine Learning\n",
    "- Model Evaluation\n",
    " \n",
    "This dataset consists of fraudulent and non-fraudulent online transactions and our goal is to build a machine learning classification model capable of identifying instances of fraud."
   ]
  },
  {
   "cell_type": "markdown",
   "id": "f097a381",
   "metadata": {},
   "source": [
    "## Exploratory Data Analysis\n",
    "To begin, we will import the necessary libraries for basic data manipulation and analysis."
   ]
  },
  {
   "cell_type": "code",
   "execution_count": 15,
   "id": "034bb57b",
   "metadata": {
    "scrolled": true
   },
   "outputs": [
    {
     "data": {
      "text/html": [
       "<div>\n",
       "<style scoped>\n",
       "    .dataframe tbody tr th:only-of-type {\n",
       "        vertical-align: middle;\n",
       "    }\n",
       "\n",
       "    .dataframe tbody tr th {\n",
       "        vertical-align: top;\n",
       "    }\n",
       "\n",
       "    .dataframe thead th {\n",
       "        text-align: right;\n",
       "    }\n",
       "</style>\n",
       "<table border=\"1\" class=\"dataframe\">\n",
       "  <thead>\n",
       "    <tr style=\"text-align: right;\">\n",
       "      <th></th>\n",
       "      <th>Unnamed: 0</th>\n",
       "      <th>step</th>\n",
       "      <th>type</th>\n",
       "      <th>amount</th>\n",
       "      <th>nameOrig</th>\n",
       "      <th>oldbalanceOrg</th>\n",
       "      <th>newbalanceOrig</th>\n",
       "      <th>nameDest</th>\n",
       "      <th>oldbalanceDest</th>\n",
       "      <th>newbalanceDest</th>\n",
       "      <th>isFraud</th>\n",
       "      <th>isFlaggedFraud</th>\n",
       "    </tr>\n",
       "  </thead>\n",
       "  <tbody>\n",
       "    <tr>\n",
       "      <th>0</th>\n",
       "      <td>0</td>\n",
       "      <td>1</td>\n",
       "      <td>PAYMENT</td>\n",
       "      <td>9839.64</td>\n",
       "      <td>C1231006815</td>\n",
       "      <td>170136.0</td>\n",
       "      <td>160296.36</td>\n",
       "      <td>M1979787155</td>\n",
       "      <td>0.0</td>\n",
       "      <td>0.0</td>\n",
       "      <td>0</td>\n",
       "      <td>0</td>\n",
       "    </tr>\n",
       "    <tr>\n",
       "      <th>1</th>\n",
       "      <td>5</td>\n",
       "      <td>1</td>\n",
       "      <td>PAYMENT</td>\n",
       "      <td>7817.71</td>\n",
       "      <td>C90045638</td>\n",
       "      <td>53860.0</td>\n",
       "      <td>46042.29</td>\n",
       "      <td>M573487274</td>\n",
       "      <td>0.0</td>\n",
       "      <td>0.0</td>\n",
       "      <td>0</td>\n",
       "      <td>0</td>\n",
       "    </tr>\n",
       "    <tr>\n",
       "      <th>2</th>\n",
       "      <td>25</td>\n",
       "      <td>1</td>\n",
       "      <td>PAYMENT</td>\n",
       "      <td>6061.13</td>\n",
       "      <td>C1043358826</td>\n",
       "      <td>443.0</td>\n",
       "      <td>0.00</td>\n",
       "      <td>M1558079303</td>\n",
       "      <td>0.0</td>\n",
       "      <td>0.0</td>\n",
       "      <td>0</td>\n",
       "      <td>0</td>\n",
       "    </tr>\n",
       "    <tr>\n",
       "      <th>3</th>\n",
       "      <td>27</td>\n",
       "      <td>1</td>\n",
       "      <td>PAYMENT</td>\n",
       "      <td>8009.09</td>\n",
       "      <td>C1053967012</td>\n",
       "      <td>10968.0</td>\n",
       "      <td>2958.91</td>\n",
       "      <td>M295304806</td>\n",
       "      <td>0.0</td>\n",
       "      <td>0.0</td>\n",
       "      <td>0</td>\n",
       "      <td>0</td>\n",
       "    </tr>\n",
       "    <tr>\n",
       "      <th>4</th>\n",
       "      <td>36</td>\n",
       "      <td>1</td>\n",
       "      <td>PAYMENT</td>\n",
       "      <td>8603.42</td>\n",
       "      <td>C1608633989</td>\n",
       "      <td>253.0</td>\n",
       "      <td>0.00</td>\n",
       "      <td>M1615617512</td>\n",
       "      <td>0.0</td>\n",
       "      <td>0.0</td>\n",
       "      <td>0</td>\n",
       "      <td>0</td>\n",
       "    </tr>\n",
       "  </tbody>\n",
       "</table>\n",
       "</div>"
      ],
      "text/plain": [
       "   Unnamed: 0  step     type   amount     nameOrig  oldbalanceOrg  \\\n",
       "0           0     1  PAYMENT  9839.64  C1231006815       170136.0   \n",
       "1           5     1  PAYMENT  7817.71    C90045638        53860.0   \n",
       "2          25     1  PAYMENT  6061.13  C1043358826          443.0   \n",
       "3          27     1  PAYMENT  8009.09  C1053967012        10968.0   \n",
       "4          36     1  PAYMENT  8603.42  C1608633989          253.0   \n",
       "\n",
       "   newbalanceOrig     nameDest  oldbalanceDest  newbalanceDest  isFraud  \\\n",
       "0       160296.36  M1979787155             0.0             0.0        0   \n",
       "1        46042.29   M573487274             0.0             0.0        0   \n",
       "2            0.00  M1558079303             0.0             0.0        0   \n",
       "3         2958.91   M295304806             0.0             0.0        0   \n",
       "4            0.00  M1615617512             0.0             0.0        0   \n",
       "\n",
       "   isFlaggedFraud  \n",
       "0               0  \n",
       "1               0  \n",
       "2               0  \n",
       "3               0  \n",
       "4               0  "
      ]
     },
     "execution_count": 15,
     "metadata": {},
     "output_type": "execute_result"
    }
   ],
   "source": [
    "import pandas as pd  # For data manipulation\n",
    "import numpy as np  # For basic data analysis\n",
    "from matplotlib import pyplot as plt  # For basic data visualization\n",
    "import seaborn as sns # For more advanced visualizations\n",
    "\n",
    "# Reading the dataset from a CSV into a dataframe and reviewing the first few rows\n",
    "data = pd.read_csv('PS_20174392719_1491204439457_log_reduced.csv')\n",
    "data.head()"
   ]
  },
  {
   "cell_type": "markdown",
   "id": "86491fec",
   "metadata": {},
   "source": [
    "We can see that the 'isFraud' column will be our target variable with '1' representing cases of fraud and '0' representing non-fraud cases.  At first glance, the columns which appear may be useful in training our model are:\n",
    "\n",
    "- type\n",
    "- amount\n",
    "- oldbalanceOrg\n",
    "- newbalanceOrig\n",
    "- oldbalanceDest\n",
    "- newbalanceDest\n",
    "\n",
    "The 'step' column contains an integer representing the number of hours passed since the recording of the dataset began.  This may be useful in a time-series analysis but not for the classfication model we will be constructing so it will be omitted.\n",
    "\n",
    "The 'nameOrig' and 'nameDest' columns contain unique identifiers which may provide additional insight with proper transformation considered beyond the scope of this project, so they will be omitted for now.\n",
    "\n",
    "Of the remaining columns, we have one categorical variable, 'type', and five numeric variables representing dollar amounts.  We should now inspect these values to determine what, if any, transformation might be necessary.  We will assign these column names to their own variable for ease of reference."
   ]
  },
  {
   "cell_type": "code",
   "execution_count": 16,
   "id": "34cf704f",
   "metadata": {},
   "outputs": [
    {
     "data": {
      "text/html": [
       "<div>\n",
       "<style scoped>\n",
       "    .dataframe tbody tr th:only-of-type {\n",
       "        vertical-align: middle;\n",
       "    }\n",
       "\n",
       "    .dataframe tbody tr th {\n",
       "        vertical-align: top;\n",
       "    }\n",
       "\n",
       "    .dataframe thead th {\n",
       "        text-align: right;\n",
       "    }\n",
       "</style>\n",
       "<table border=\"1\" class=\"dataframe\">\n",
       "  <thead>\n",
       "    <tr style=\"text-align: right;\">\n",
       "      <th></th>\n",
       "      <th>amount</th>\n",
       "      <th>oldbalanceOrg</th>\n",
       "      <th>newbalanceOrig</th>\n",
       "      <th>oldbalanceDest</th>\n",
       "      <th>newbalanceDest</th>\n",
       "    </tr>\n",
       "  </thead>\n",
       "  <tbody>\n",
       "    <tr>\n",
       "      <th>count</th>\n",
       "      <td>1.081646e+06</td>\n",
       "      <td>1.081646e+06</td>\n",
       "      <td>1.081646e+06</td>\n",
       "      <td>1.081646e+06</td>\n",
       "      <td>1.081646e+06</td>\n",
       "    </tr>\n",
       "    <tr>\n",
       "      <th>mean</th>\n",
       "      <td>1.799674e+05</td>\n",
       "      <td>8.323959e+05</td>\n",
       "      <td>8.536941e+05</td>\n",
       "      <td>1.099945e+06</td>\n",
       "      <td>1.224592e+06</td>\n",
       "    </tr>\n",
       "    <tr>\n",
       "      <th>std</th>\n",
       "      <td>6.125026e+05</td>\n",
       "      <td>2.881478e+06</td>\n",
       "      <td>2.917500e+06</td>\n",
       "      <td>3.350399e+06</td>\n",
       "      <td>3.636891e+06</td>\n",
       "    </tr>\n",
       "    <tr>\n",
       "      <th>min</th>\n",
       "      <td>0.000000e+00</td>\n",
       "      <td>0.000000e+00</td>\n",
       "      <td>0.000000e+00</td>\n",
       "      <td>0.000000e+00</td>\n",
       "      <td>0.000000e+00</td>\n",
       "    </tr>\n",
       "    <tr>\n",
       "      <th>25%</th>\n",
       "      <td>1.337525e+04</td>\n",
       "      <td>0.000000e+00</td>\n",
       "      <td>0.000000e+00</td>\n",
       "      <td>0.000000e+00</td>\n",
       "      <td>0.000000e+00</td>\n",
       "    </tr>\n",
       "    <tr>\n",
       "      <th>50%</th>\n",
       "      <td>7.456458e+04</td>\n",
       "      <td>1.416600e+04</td>\n",
       "      <td>0.000000e+00</td>\n",
       "      <td>1.326389e+05</td>\n",
       "      <td>2.149679e+05</td>\n",
       "    </tr>\n",
       "    <tr>\n",
       "      <th>75%</th>\n",
       "      <td>2.089623e+05</td>\n",
       "      <td>1.073064e+05</td>\n",
       "      <td>1.446005e+05</td>\n",
       "      <td>9.430703e+05</td>\n",
       "      <td>1.110431e+06</td>\n",
       "    </tr>\n",
       "    <tr>\n",
       "      <th>max</th>\n",
       "      <td>9.244552e+07</td>\n",
       "      <td>4.169084e+07</td>\n",
       "      <td>4.143236e+07</td>\n",
       "      <td>3.551855e+08</td>\n",
       "      <td>3.553805e+08</td>\n",
       "    </tr>\n",
       "  </tbody>\n",
       "</table>\n",
       "</div>"
      ],
      "text/plain": [
       "             amount  oldbalanceOrg  newbalanceOrig  oldbalanceDest  \\\n",
       "count  1.081646e+06   1.081646e+06    1.081646e+06    1.081646e+06   \n",
       "mean   1.799674e+05   8.323959e+05    8.536941e+05    1.099945e+06   \n",
       "std    6.125026e+05   2.881478e+06    2.917500e+06    3.350399e+06   \n",
       "min    0.000000e+00   0.000000e+00    0.000000e+00    0.000000e+00   \n",
       "25%    1.337525e+04   0.000000e+00    0.000000e+00    0.000000e+00   \n",
       "50%    7.456458e+04   1.416600e+04    0.000000e+00    1.326389e+05   \n",
       "75%    2.089623e+05   1.073064e+05    1.446005e+05    9.430703e+05   \n",
       "max    9.244552e+07   4.169084e+07    4.143236e+07    3.551855e+08   \n",
       "\n",
       "       newbalanceDest  \n",
       "count    1.081646e+06  \n",
       "mean     1.224592e+06  \n",
       "std      3.636891e+06  \n",
       "min      0.000000e+00  \n",
       "25%      0.000000e+00  \n",
       "50%      2.149679e+05  \n",
       "75%      1.110431e+06  \n",
       "max      3.553805e+08  "
      ]
     },
     "execution_count": 16,
     "metadata": {},
     "output_type": "execute_result"
    }
   ],
   "source": [
    "# Creating a new variable containing numeric column names\n",
    "num_columns = ['amount', 'oldbalanceOrg', 'newbalanceOrig', 'oldbalanceDest', 'newbalanceDest']\n",
    "\n",
    "# Printing statistical summaries of these numeric columns in our dataset\n",
    "data[num_columns].describe()"
   ]
  },
  {
   "cell_type": "code",
   "execution_count": 17,
   "id": "f90a4a41",
   "metadata": {
    "scrolled": true
   },
   "outputs": [
    {
     "data": {
      "text/plain": [
       "Unnamed: 0        0\n",
       "step              0\n",
       "type              0\n",
       "amount            0\n",
       "nameOrig          0\n",
       "oldbalanceOrg     0\n",
       "newbalanceOrig    0\n",
       "nameDest          0\n",
       "oldbalanceDest    0\n",
       "newbalanceDest    0\n",
       "isFraud           0\n",
       "isFlaggedFraud    0\n",
       "dtype: int64"
      ]
     },
     "execution_count": 17,
     "metadata": {},
     "output_type": "execute_result"
    }
   ],
   "source": [
    "# Checking how many missing values each column contains\n",
    "data.isna().sum()"
   ]
  },
  {
   "cell_type": "code",
   "execution_count": 18,
   "id": "30613eef",
   "metadata": {},
   "outputs": [
    {
     "data": {
      "image/png": "[encoded data removed]",
      "text/plain": [
       "<Figure size 720x360 with 1 Axes>"
      ]
     },
     "metadata": {},
     "output_type": "display_data"
    }
   ],
   "source": [
    "fig, ax = plt.subplots(figsize=(10,5))  # Assigning axes variable and resizing plot\n",
    "plt.boxplot(x=data[num_columns])  # Creating the boxplot\n",
    "ax.set_xticklabels(num_columns, rotation=30)  # Relabeling the x-axis\n",
    "ax.set_yticks(range(0,500000000,100000000))  # Changing the y-axis tick mark distribution\n",
    "ax.set_yticklabels(['$0', '$100M', '$200M', '$300M', '$400M'])  # Relabeling the y-axis\n",
    "plt.title('Boxplot of Dataset\\'s Numeric Variables', fontsize=15)  # Adding a title to the plot\n",
    "plt.style.use('ggplot')  # Selecting a plot style to include gridlines\n",
    "plt.show()  # Displaying the plot"
   ]
  },
  {
   "cell_type": "markdown",
   "id": "29aa9c78",
   "metadata": {},
   "source": [
    "From the checks above, we can conclude the following about the numeric columns to be used in our model:\n",
    "\n",
    "- They have values ranging from zero to the hundreds of millions\n",
    "- They have no null values we need to address\n",
    "- They each have many outliers\n",
    "\n",
    "This means that we should normalize these columns, are able to do so now without additional grooming, and should use z-score normalization due to the presence of outliers."
   ]
  },
  {
   "cell_type": "markdown",
   "id": "b65d1c2a",
   "metadata": {},
   "source": [
    "## Data Preparation\n",
    "We'll now make modifications to our dataset to groom it into a format useable by our machine learning model."
   ]
  },
  {
   "cell_type": "code",
   "execution_count": 19,
   "id": "6d605c98",
   "metadata": {},
   "outputs": [],
   "source": [
    "# Importing the normalizing library\n",
    "from sklearn.preprocessing import Normalizer\n",
    "\n",
    "# Creating an instance of the normalizer\n",
    "norm = Normalizer()\n",
    "\n",
    "# Creating a deep copy of our dataframe so it may be modified with affecting the original\n",
    "# For convenience, only the columns to be used in training our model will be kept\n",
    "columns_to_keep = ['type', 'amount', 'oldbalanceOrg', 'newbalanceOrig', \\\n",
    "                   'oldbalanceDest', 'newbalanceDest', 'isFraud']\n",
    "data_copy = data[columns_to_keep].copy(deep=True)\n",
    "\n",
    "# Replacing the numeric columns with their normalized values\n",
    "data_copy[num_columns] = norm.fit_transform(data_copy[num_columns])"
   ]
  },
  {
   "cell_type": "markdown",
   "id": "4112ebda",
   "metadata": {},
   "source": [
    "With this transformation made, we can take another look at the same boxplot from above to get a better understanding of the distributions."
   ]
  },
  {
   "cell_type": "code",
   "execution_count": 20,
   "id": "b92b0529",
   "metadata": {
    "scrolled": false
   },
   "outputs": [
    {
     "data": {
      "text/plain": [
       "<Figure size 432x288 with 0 Axes>"
      ]
     },
     "metadata": {},
     "output_type": "display_data"
    },
    {
     "data": {
      "image/png": "[encoded data removed]",
      "text/plain": [
       "<Figure size 720x360 with 1 Axes>"
      ]
     },
     "metadata": {},
     "output_type": "display_data"
    }
   ],
   "source": [
    "plt.clf()  # Clearing the previous plot formatting\n",
    "fig, ax = plt.subplots(figsize=(10,5))  # Assigning axes variable and resizing plot\n",
    "plt.boxplot(x=data_copy[num_columns])  # Creating the boxplot\n",
    "ax.set_xticklabels(num_columns, rotation=30)  # Relabeling the x-axis\n",
    "plt.ylabel('z-Score')\n",
    "plt.title('Boxplot of Dataset\\'s Transformed Numeric Variables', fontsize=15)  # Adding a title to the plot\n",
    "plt.style.use('ggplot')  # Selecting a plot style to include gridlines\n",
    "plt.show()  # Displaying the plot"
   ]
  },
  {
   "cell_type": "markdown",
   "id": "37e5b685",
   "metadata": {},
   "source": [
    "The next transformation needing to be done is to create dummy variables for our non-ordinal categorical columns, which in this case is only the 'type'."
   ]
  },
  {
   "cell_type": "code",
   "execution_count": 21,
   "id": "399c4bde",
   "metadata": {},
   "outputs": [
    {
     "data": {
      "text/html": [
       "<div>\n",
       "<style scoped>\n",
       "    .dataframe tbody tr th:only-of-type {\n",
       "        vertical-align: middle;\n",
       "    }\n",
       "\n",
       "    .dataframe tbody tr th {\n",
       "        vertical-align: top;\n",
       "    }\n",
       "\n",
       "    .dataframe thead th {\n",
       "        text-align: right;\n",
       "    }\n",
       "</style>\n",
       "<table border=\"1\" class=\"dataframe\">\n",
       "  <thead>\n",
       "    <tr style=\"text-align: right;\">\n",
       "      <th></th>\n",
       "      <th>amount</th>\n",
       "      <th>oldbalanceOrg</th>\n",
       "      <th>newbalanceOrig</th>\n",
       "      <th>oldbalanceDest</th>\n",
       "      <th>newbalanceDest</th>\n",
       "      <th>isFraud</th>\n",
       "      <th>type_CASH_IN</th>\n",
       "      <th>type_CASH_OUT</th>\n",
       "      <th>type_DEBIT</th>\n",
       "      <th>type_PAYMENT</th>\n",
       "      <th>type_TRANSFER</th>\n",
       "    </tr>\n",
       "  </thead>\n",
       "  <tbody>\n",
       "    <tr>\n",
       "      <th>0</th>\n",
       "      <td>0.042057</td>\n",
       "      <td>0.727196</td>\n",
       "      <td>0.685140</td>\n",
       "      <td>0.000000</td>\n",
       "      <td>0.000000</td>\n",
       "      <td>0</td>\n",
       "      <td>0</td>\n",
       "      <td>0</td>\n",
       "      <td>0</td>\n",
       "      <td>1</td>\n",
       "      <td>0</td>\n",
       "    </tr>\n",
       "    <tr>\n",
       "      <th>1</th>\n",
       "      <td>0.109665</td>\n",
       "      <td>0.755532</td>\n",
       "      <td>0.645868</td>\n",
       "      <td>0.000000</td>\n",
       "      <td>0.000000</td>\n",
       "      <td>0</td>\n",
       "      <td>0</td>\n",
       "      <td>0</td>\n",
       "      <td>0</td>\n",
       "      <td>1</td>\n",
       "      <td>0</td>\n",
       "    </tr>\n",
       "    <tr>\n",
       "      <th>2</th>\n",
       "      <td>0.997340</td>\n",
       "      <td>0.072894</td>\n",
       "      <td>0.000000</td>\n",
       "      <td>0.000000</td>\n",
       "      <td>0.000000</td>\n",
       "      <td>0</td>\n",
       "      <td>0</td>\n",
       "      <td>0</td>\n",
       "      <td>0</td>\n",
       "      <td>1</td>\n",
       "      <td>0</td>\n",
       "    </tr>\n",
       "    <tr>\n",
       "      <th>3</th>\n",
       "      <td>0.576212</td>\n",
       "      <td>0.789090</td>\n",
       "      <td>0.212878</td>\n",
       "      <td>0.000000</td>\n",
       "      <td>0.000000</td>\n",
       "      <td>0</td>\n",
       "      <td>0</td>\n",
       "      <td>0</td>\n",
       "      <td>0</td>\n",
       "      <td>1</td>\n",
       "      <td>0</td>\n",
       "    </tr>\n",
       "    <tr>\n",
       "      <th>4</th>\n",
       "      <td>0.999568</td>\n",
       "      <td>0.029394</td>\n",
       "      <td>0.000000</td>\n",
       "      <td>0.000000</td>\n",
       "      <td>0.000000</td>\n",
       "      <td>0</td>\n",
       "      <td>0</td>\n",
       "      <td>0</td>\n",
       "      <td>0</td>\n",
       "      <td>1</td>\n",
       "      <td>0</td>\n",
       "    </tr>\n",
       "    <tr>\n",
       "      <th>...</th>\n",
       "      <td>...</td>\n",
       "      <td>...</td>\n",
       "      <td>...</td>\n",
       "      <td>...</td>\n",
       "      <td>...</td>\n",
       "      <td>...</td>\n",
       "      <td>...</td>\n",
       "      <td>...</td>\n",
       "      <td>...</td>\n",
       "      <td>...</td>\n",
       "      <td>...</td>\n",
       "    </tr>\n",
       "    <tr>\n",
       "      <th>1081641</th>\n",
       "      <td>0.577350</td>\n",
       "      <td>0.577350</td>\n",
       "      <td>0.000000</td>\n",
       "      <td>0.000000</td>\n",
       "      <td>0.577350</td>\n",
       "      <td>1</td>\n",
       "      <td>0</td>\n",
       "      <td>1</td>\n",
       "      <td>0</td>\n",
       "      <td>0</td>\n",
       "      <td>0</td>\n",
       "    </tr>\n",
       "    <tr>\n",
       "      <th>1081642</th>\n",
       "      <td>0.357587</td>\n",
       "      <td>0.357587</td>\n",
       "      <td>0.000000</td>\n",
       "      <td>0.404443</td>\n",
       "      <td>0.762030</td>\n",
       "      <td>1</td>\n",
       "      <td>0</td>\n",
       "      <td>1</td>\n",
       "      <td>0</td>\n",
       "      <td>0</td>\n",
       "      <td>0</td>\n",
       "    </tr>\n",
       "    <tr>\n",
       "      <th>1081643</th>\n",
       "      <td>0.707107</td>\n",
       "      <td>0.707107</td>\n",
       "      <td>0.000000</td>\n",
       "      <td>0.000000</td>\n",
       "      <td>0.000000</td>\n",
       "      <td>1</td>\n",
       "      <td>0</td>\n",
       "      <td>0</td>\n",
       "      <td>0</td>\n",
       "      <td>0</td>\n",
       "      <td>1</td>\n",
       "    </tr>\n",
       "    <tr>\n",
       "      <th>1081644</th>\n",
       "      <td>0.575251</td>\n",
       "      <td>0.575251</td>\n",
       "      <td>0.000000</td>\n",
       "      <td>0.006242</td>\n",
       "      <td>0.581493</td>\n",
       "      <td>1</td>\n",
       "      <td>0</td>\n",
       "      <td>1</td>\n",
       "      <td>0</td>\n",
       "      <td>0</td>\n",
       "      <td>0</td>\n",
       "    </tr>\n",
       "    <tr>\n",
       "      <th>1081645</th>\n",
       "      <td>0.085864</td>\n",
       "      <td>0.085864</td>\n",
       "      <td>0.000000</td>\n",
       "      <td>0.657628</td>\n",
       "      <td>0.743492</td>\n",
       "      <td>1</td>\n",
       "      <td>0</td>\n",
       "      <td>1</td>\n",
       "      <td>0</td>\n",
       "      <td>0</td>\n",
       "      <td>0</td>\n",
       "    </tr>\n",
       "  </tbody>\n",
       "</table>\n",
       "<p>1081646 rows × 11 columns</p>\n",
       "</div>"
      ],
      "text/plain": [
       "           amount  oldbalanceOrg  newbalanceOrig  oldbalanceDest  \\\n",
       "0        0.042057       0.727196        0.685140        0.000000   \n",
       "1        0.109665       0.755532        0.645868        0.000000   \n",
       "2        0.997340       0.072894        0.000000        0.000000   \n",
       "3        0.576212       0.789090        0.212878        0.000000   \n",
       "4        0.999568       0.029394        0.000000        0.000000   \n",
       "...           ...            ...             ...             ...   \n",
       "1081641  0.577350       0.577350        0.000000        0.000000   \n",
       "1081642  0.357587       0.357587        0.000000        0.404443   \n",
       "1081643  0.707107       0.707107        0.000000        0.000000   \n",
       "1081644  0.575251       0.575251        0.000000        0.006242   \n",
       "1081645  0.085864       0.085864        0.000000        0.657628   \n",
       "\n",
       "         newbalanceDest  isFraud  type_CASH_IN  type_CASH_OUT  type_DEBIT  \\\n",
       "0              0.000000        0             0              0           0   \n",
       "1              0.000000        0             0              0           0   \n",
       "2              0.000000        0             0              0           0   \n",
       "3              0.000000        0             0              0           0   \n",
       "4              0.000000        0             0              0           0   \n",
       "...                 ...      ...           ...            ...         ...   \n",
       "1081641        0.577350        1             0              1           0   \n",
       "1081642        0.762030        1             0              1           0   \n",
       "1081643        0.000000        1             0              0           0   \n",
       "1081644        0.581493        1             0              1           0   \n",
       "1081645        0.743492        1             0              1           0   \n",
       "\n",
       "         type_PAYMENT  type_TRANSFER  \n",
       "0                   1              0  \n",
       "1                   1              0  \n",
       "2                   1              0  \n",
       "3                   1              0  \n",
       "4                   1              0  \n",
       "...               ...            ...  \n",
       "1081641             0              0  \n",
       "1081642             0              0  \n",
       "1081643             0              1  \n",
       "1081644             0              0  \n",
       "1081645             0              0  \n",
       "\n",
       "[1081646 rows x 11 columns]"
      ]
     },
     "execution_count": 21,
     "metadata": {},
     "output_type": "execute_result"
    }
   ],
   "source": [
    "data_copy = pd.get_dummies(data_copy, columns = ['type'], prefix = ['type'])\n",
    "data_copy"
   ]
  },
  {
   "cell_type": "markdown",
   "id": "6428f60d",
   "metadata": {},
   "source": [
    "Our data is now in a format which may be used to train a classification machine learning model.  Our final step is to split the data into training and test sets so we may properly evaluate our model later on."
   ]
  },
  {
   "cell_type": "code",
   "execution_count": 22,
   "id": "819927ce",
   "metadata": {},
   "outputs": [],
   "source": [
    "# Importing the library to split our data\n",
    "from sklearn.model_selection import train_test_split\n",
    "\n",
    "# Separating the dataset into separate independent (X) and dependent (y) sets\n",
    "data_copy_y = data_copy['isFraud']\n",
    "data_copy_X = data_copy.drop(labels='isFraud', axis=1)\n",
    "\n",
    "# Splitting the data using an 80/20 train/test split and assigning to appropriate variables\n",
    "X_train, X_test, y_train, y_test = train_test_split(data_copy_X, data_copy_y)"
   ]
  },
  {
   "cell_type": "markdown",
   "id": "adfe9eb5",
   "metadata": {},
   "source": [
    "## Machine Learning\n",
    "With our data preparation complete, we are now able to train, test, and evaluate various classification models.  There are three models suited for this task which we will be comparing:\n",
    "- Logistic Regression\n",
    "- Decision Tree\n",
    "- Random Forest\n",
    "\n",
    "We will train each on our data one-by-one then continue with their evaluation. "
   ]
  },
  {
   "cell_type": "markdown",
   "id": "1439415f",
   "metadata": {},
   "source": [
    "### Logistic Regression"
   ]
  },
  {
   "cell_type": "code",
   "execution_count": 23,
   "id": "2cb39b55",
   "metadata": {},
   "outputs": [
    {
     "data": {
      "text/plain": [
       "LogisticRegression(max_iter=500)"
      ]
     },
     "execution_count": 23,
     "metadata": {},
     "output_type": "execute_result"
    }
   ],
   "source": [
    "# Importing the Logistic Regression machine learning library\n",
    "from sklearn.linear_model import LogisticRegression\n",
    "\n",
    "# Creating a Logistic Regression instance\n",
    "lr_model = LogisticRegression(max_iter=500)\n",
    "\n",
    "# Training the Logistic Regression model on our test data\n",
    "lr_model.fit(X_train, y_train)"
   ]
  },
  {
   "cell_type": "markdown",
   "id": "3974f78a",
   "metadata": {},
   "source": [
    "### Decision Tree"
   ]
  },
  {
   "cell_type": "code",
   "execution_count": 24,
   "id": "f9c22614",
   "metadata": {
    "scrolled": true
   },
   "outputs": [
    {
     "data": {
      "text/plain": [
       "DecisionTreeClassifier()"
      ]
     },
     "execution_count": 24,
     "metadata": {},
     "output_type": "execute_result"
    }
   ],
   "source": [
    "# Importing the Decision Tree machine learning library\n",
    "from sklearn.tree import DecisionTreeClassifier\n",
    "\n",
    "# Creating a Decision Tree instance\n",
    "dt_model = DecisionTreeClassifier()\n",
    "\n",
    "# Training the Decision Tree model on our test data\n",
    "dt_model.fit(X_train, y_train)"
   ]
  },
  {
   "cell_type": "markdown",
   "id": "4fda57af",
   "metadata": {},
   "source": [
    "### Random Forest"
   ]
  },
  {
   "cell_type": "code",
   "execution_count": 25,
   "id": "251851ff",
   "metadata": {},
   "outputs": [
    {
     "data": {
      "text/plain": [
       "RandomForestClassifier()"
      ]
     },
     "execution_count": 25,
     "metadata": {},
     "output_type": "execute_result"
    }
   ],
   "source": [
    "# Importing the Random Forest machine learning library\n",
    "from sklearn.ensemble import RandomForestClassifier\n",
    "\n",
    "# Creating a Random Forest instance\n",
    "rf_model = RandomForestClassifier()\n",
    "\n",
    "# Training the Random Forest model on our test data\n",
    "rf_model.fit(X_train, y_train.values.ravel())"
   ]
  },
  {
   "cell_type": "markdown",
   "id": "a96dc8fe",
   "metadata": {},
   "source": [
    "With our three models trained, we can proceed to their evaluation."
   ]
  },
  {
   "cell_type": "markdown",
   "id": "ca9723bd",
   "metadata": {},
   "source": [
    "## Model Evaluation\n",
    "Before we can begin comparing our models, we need to determine how we will do so.  Our models' accuracies alone will not make a good metric for comparison in this case for one simple reason:"
   ]
  },
  {
   "cell_type": "code",
   "execution_count": 26,
   "id": "ca76bcfa",
   "metadata": {},
   "outputs": [
    {
     "data": {
      "text/plain": [
       "0.001289701066707592"
      ]
     },
     "execution_count": 26,
     "metadata": {},
     "output_type": "execute_result"
    }
   ],
   "source": [
    "data['isFraud'].sum() / len(data)"
   ]
  },
  {
   "cell_type": "markdown",
   "id": "c55f5f6e",
   "metadata": {},
   "source": [
    "Approximately 0.1% of our data observations are in fact instances of fraud.  That means that if our model were to **never** predict a payment to be fraud, it would still be nearly 99.9% accurate.  The metric we use for comparison must take this into account which leaves us with three options: Precision, Recall, and F1 score.\n",
    "\n",
    "**Precision:** Would measure how many of the payments the model identifies as fraud are actually fraudulent\n",
    "\n",
    "**Recall:** Would measure how many of the actual fraudulent payments the model identified as fraud\n",
    "\n",
    "**F1 Score:** A combination of the two\n",
    "\n",
    "In reality, this would be a decision to be made by the stakeholders based on what they feel is more important in the model's predictions.  For the sake of this exercise, we will be using recall as one could reasonably argue that correctly identifying cases of fraud is more important than sounding a 'false alarm'.\n",
    "\n",
    "With the metric of comparison chosen, we will proceed to make predictions with our models and score them."
   ]
  },
  {
   "cell_type": "code",
   "execution_count": 27,
   "id": "da93b519",
   "metadata": {},
   "outputs": [
    {
     "name": "stdout",
     "output_type": "stream",
     "text": [
      "Logistic Regression Recall: 0.4465753424657534\n",
      "Decision Tree Recall: 0.8904109589041096\n",
      "Random Forest Recall: 0.863013698630137\n"
     ]
    }
   ],
   "source": [
    "# Importing the recall calculation library\n",
    "from sklearn.metrics import recall_score\n",
    "\n",
    "# Making predictions for our test data using our trained models\n",
    "lr_y_pred = lr_model.predict(X_test)\n",
    "dt_y_pred = dt_model.predict(X_test)\n",
    "rf_y_pred = rf_model.predict(X_test)\n",
    "\n",
    "# Printing our results\n",
    "print('Logistic Regression Recall:', recall_score(y_test, lr_y_pred))\n",
    "print('Decision Tree Recall:', recall_score(y_test, dt_y_pred))\n",
    "print('Random Forest Recall:', recall_score(y_test, rf_y_pred))"
   ]
  },
  {
   "cell_type": "markdown",
   "id": "d2d5d77e",
   "metadata": {},
   "source": [
    "Both the Decision Tree and Random Forest models outperform the Logistic Regression model by a wide margin.  Since they both have similar recall scores, we should perform a cross-validation of the two models so we may declare which is the best performer with more certainty."
   ]
  },
  {
   "cell_type": "code",
   "execution_count": 44,
   "id": "4ccd6f1c",
   "metadata": {},
   "outputs": [
    {
     "name": "stdout",
     "output_type": "stream",
     "text": [
      "Decision Tree Recall Cross-Validation: 0.9163050461122955\n",
      "Random Forest Recall Cross-Validation: 0.8903794830457639\n"
     ]
    }
   ],
   "source": [
    "# Importing the library to perform cross-validation\n",
    "from sklearn.model_selection import cross_validate\n",
    "\n",
    "# Running the cross-validation on both Decision Tree and Random Forest models; specifying recall as the scoring metric\n",
    "dt_scores = cross_validate(dt_model, X_test, y_test, scoring='recall_macro')\n",
    "rf_scores = cross_validate(rf_model, X_test, y_test, scoring='recall_macro')\n",
    "\n",
    "# Printing the means of the cross-validations for both models\n",
    "print('Decision Tree Recall Cross-Validation:', np.mean(dt_scores['test_score']))\n",
    "print('Random Forest Recall Cross-Validation:', np.mean(rf_scores['test_score']))"
   ]
  },
  {
   "cell_type": "markdown",
   "id": "e3238196",
   "metadata": {},
   "source": [
    "## Conclusion\n",
    "Upon training and evaluating our classification model, we found that the Decision Tree model performed the best by a narrow margin.  Going forward, we would make efforts to further enhance this classification model.  For example, we omitted the payment destination ID from our model.  This column could provide significant insight if we were to perform additional analysis on it to create a new independent variable for payments going to destinations previously identified as fraudulent.  Additionally, we would use loops to tune the parameters of each model we train to ensure it's performing optimally before making comparisons.  This would, however, be an extremely computationally heavy task outside the scope of this exercise."
   ]
  }
 ],
 "metadata": {
  "kernelspec": {
   "display_name": "Python 3 (ipykernel)",
   "language": "python",
   "name": "python3"
  },
  "language_info": {
   "codemirror_mode": {
    "name": "ipython",
    "version": 3
   },
   "file_extension": ".py",
   "mimetype": "text/x-python",
   "name": "python",
   "nbconvert_exporter": "python",
   "pygments_lexer": "ipython3",
   "version": "3.9.7"
  }
 },
 "nbformat": 4,
 "nbformat_minor": 5
}
